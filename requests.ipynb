{
 "cells": [
  {
   "cell_type": "code",
   "execution_count": 18,
   "metadata": {},
   "outputs": [],
   "source": [
    "import pymongo\n",
    "import pandas as pd\n",
    "from pymongo import MongoClient\n",
    "import os\n",
    "from dotenv import load_dotenv\n",
    "\n",
    "load_dotenv()\n",
    "ATLAS_KEY = os.getenv(\"ATLAS_KEY\")\n",
    "client = MongoClient(ATLAS_KEY)\n",
    "db = client[\"imbd-scrap\"]\n",
    "movies_collection = db[\"movies\"]"
   ]
  },
  {
   "attachments": {},
   "cell_type": "markdown",
   "metadata": {},
   "source": [
    "### 1) Quel est le film le plus long ?"
   ]
  },
  {
   "cell_type": "code",
   "execution_count": 2,
   "metadata": {},
   "outputs": [
    {
     "name": "stdout",
     "output_type": "stream",
     "text": [
      "{'title': 'Gone with the Wind', 'time': 238}\n"
     ]
    }
   ],
   "source": [
    "longest_movie = movies_collection.find_one(sort=[('time', -1)], projection={'title': 1, 'time': 1, '_id': 0})\n",
    "print(longest_movie)"
   ]
  },
  {
   "attachments": {},
   "cell_type": "markdown",
   "metadata": {},
   "source": [
    "### 2) Quels sont les 5 films les mieux notés ?"
   ]
  },
  {
   "cell_type": "code",
   "execution_count": 19,
   "metadata": {},
   "outputs": [
    {
     "data": {
      "text/html": [
       "<div>\n",
       "<style scoped>\n",
       "    .dataframe tbody tr th:only-of-type {\n",
       "        vertical-align: middle;\n",
       "    }\n",
       "\n",
       "    .dataframe tbody tr th {\n",
       "        vertical-align: top;\n",
       "    }\n",
       "\n",
       "    .dataframe thead th {\n",
       "        text-align: right;\n",
       "    }\n",
       "</style>\n",
       "<table border=\"1\" class=\"dataframe\">\n",
       "  <thead>\n",
       "    <tr style=\"text-align: right;\">\n",
       "      <th></th>\n",
       "      <th>title</th>\n",
       "      <th>score</th>\n",
       "    </tr>\n",
       "  </thead>\n",
       "  <tbody>\n",
       "    <tr>\n",
       "      <th>0</th>\n",
       "      <td>The Shawshank Redemption</td>\n",
       "      <td>9.3</td>\n",
       "    </tr>\n",
       "    <tr>\n",
       "      <th>1</th>\n",
       "      <td>The Godfather</td>\n",
       "      <td>9.2</td>\n",
       "    </tr>\n",
       "    <tr>\n",
       "      <th>2</th>\n",
       "      <td>The Godfather Part II</td>\n",
       "      <td>9.0</td>\n",
       "    </tr>\n",
       "    <tr>\n",
       "      <th>3</th>\n",
       "      <td>12 Angry Men</td>\n",
       "      <td>9.0</td>\n",
       "    </tr>\n",
       "    <tr>\n",
       "      <th>4</th>\n",
       "      <td>Schindler's List</td>\n",
       "      <td>9.0</td>\n",
       "    </tr>\n",
       "  </tbody>\n",
       "</table>\n",
       "</div>"
      ],
      "text/plain": [
       "                      title score\n",
       "0  The Shawshank Redemption   9.3\n",
       "1             The Godfather   9.2\n",
       "2     The Godfather Part II   9.0\n",
       "3              12 Angry Men   9.0\n",
       "4          Schindler's List   9.0"
      ]
     },
     "execution_count": 19,
     "metadata": {},
     "output_type": "execute_result"
    }
   ],
   "source": [
    "def get_top_movies(n=5):\n",
    "    top_movies = movies_collection.find({}, {\"_id\": 0, \"title\": 1, \"score\": 1}).sort(\"score\", pymongo.DESCENDING).limit(n)\n",
    "    return pd.DataFrame(top_movies)\n",
    "\n",
    "get_top_movies(5)"
   ]
  },
  {
   "attachments": {},
   "cell_type": "markdown",
   "metadata": {},
   "source": [
    "Le code ci-dessous affiche les 5 films les mieux notés ou plus en cas d'égalité des scores"
   ]
  },
  {
   "cell_type": "code",
   "execution_count": 16,
   "metadata": {},
   "outputs": [
    {
     "name": "stdout",
     "output_type": "stream",
     "text": [
      "The Shawshank Redemption    Score:  9.3\n",
      "The Godfather    Score:  9.2\n",
      "The Lord of the Rings: The Return of the King    Score:  9.0\n",
      "Schindler's List    Score:  9.0\n",
      "12 Angry Men    Score:  9.0\n",
      "The Godfather Part II    Score:  9.0\n",
      "The Dark Knight    Score:  9.0\n"
     ]
    }
   ],
   "source": [
    "top_movies = movies_collection.find({}, {'title': 1, 'score': 1}).sort('score', pymongo.DESCENDING)\n",
    "\n",
    "# Recupérer le 5ème score\n",
    "fifth_score = top_movies[4]['score']\n",
    "\n",
    "# Filtrer les films avec un score supérieur ou égal au 5ème score\n",
    "top_movies = [movie for movie in top_movies if movie['score'] >= fifth_score]\n",
    "\n",
    "for movie in top_movies:\n",
    "    print(movie['title'], \"   Score: \",movie['score'])"
   ]
  },
  {
   "attachments": {},
   "cell_type": "markdown",
   "metadata": {},
   "source": [
    "### 3) Dans combien de films a joué Morgan Freeman ? Tom Cruise ?"
   ]
  },
  {
   "cell_type": "code",
   "execution_count": 4,
   "metadata": {},
   "outputs": [
    {
     "name": "stdout",
     "output_type": "stream",
     "text": [
      "Morgan Freeman a joué dans 4 films\n"
     ]
    }
   ],
   "source": [
    "actor = \"Morgan Freeman\"\n",
    "count = movies_collection.count_documents({\"stars\": actor})\n",
    "print(f\"{actor} a joué dans {count} films\")"
   ]
  },
  {
   "cell_type": "code",
   "execution_count": 5,
   "metadata": {},
   "outputs": [
    {
     "name": "stdout",
     "output_type": "stream",
     "text": [
      "Tom Cruise a joué dans 1 films\n"
     ]
    }
   ],
   "source": [
    "actor = \"Tom Cruise\"\n",
    "count = movies_collection.count_documents({\"stars\": actor})\n",
    "print(f\"{actor} a joué dans {count} films\")"
   ]
  },
  {
   "attachments": {},
   "cell_type": "markdown",
   "metadata": {},
   "source": [
    "### 4) Quels sont les 3 meilleurs films d’horreur ? Dramatique ? Comique ?"
   ]
  },
  {
   "cell_type": "code",
   "execution_count": 6,
   "metadata": {},
   "outputs": [
    {
     "name": "stdout",
     "output_type": "stream",
     "text": [
      "Les 3 meilleurs films de la catégorie 'Horror' sont :\n",
      "Alien 8.5\n",
      "Psycho 8.5\n",
      "The Shining 8.4\n",
      "\n",
      "\n",
      "Les 3 meilleurs films de la catégorie 'Drama' sont :\n",
      "The Shawshank Redemption 9.3\n",
      "The Godfather 9.2\n",
      "Schindler's List 9.0\n",
      "\n",
      "\n",
      "Les 3 meilleurs films de la catégorie 'Comedy' sont :\n",
      "Life Is Beautiful 8.6\n",
      "The Intouchables 8.5\n",
      "Modern Times 8.5\n",
      "\n",
      "\n"
     ]
    }
   ],
   "source": [
    "list_genre = [\"Horror\", \"Drama\", \"Comedy\"]\n",
    "\n",
    "for genre in list_genre:\n",
    "    print(f\"Les 3 meilleurs films de la catégorie '{genre}' sont :\")\n",
    "    movies = movies_collection.find({'genre': genre}).sort([('score', -1)]).limit(3)\n",
    "    for movie in movies:\n",
    "        print(movie['title'], movie['score'])\n",
    "    print('\\n')\n"
   ]
  },
  {
   "attachments": {},
   "cell_type": "markdown",
   "metadata": {},
   "source": [
    "Pareil que précedemment, le code ci-dessous gère les égalités : "
   ]
  },
  {
   "cell_type": "code",
   "execution_count": 17,
   "metadata": {},
   "outputs": [
    {
     "name": "stdout",
     "output_type": "stream",
     "text": [
      "Les 3 meilleurs films de la catégorie 'Horror' sont :\n",
      "1. Alien - Score: 8.5\n",
      "2. Psycho - Score: 8.5\n",
      "3. The Shining - Score: 8.4\n",
      "\n",
      "\n",
      "Les 3 meilleurs films de la catégorie 'Drama' sont :\n",
      "1. The Shawshank Redemption - Score: 9.3\n",
      "2. The Godfather - Score: 9.2\n",
      "3. Schindler's List - Score: 9.0\n",
      "4. The Godfather Part II - Score: 9.0\n",
      "5. The Dark Knight - Score: 9.0\n",
      "\n",
      "\n",
      "Les 3 meilleurs films de la catégorie 'Comedy' sont :\n",
      "1. Life Is Beautiful - Score: 8.6\n",
      "2. The Intouchables - Score: 8.5\n",
      "3. Modern Times - Score: 8.5\n",
      "4. Back to the Future - Score: 8.5\n",
      "\n",
      "\n"
     ]
    }
   ],
   "source": [
    "list_genre = [\"Horror\", \"Drama\", \"Comedy\"]\n",
    "\n",
    "for genre in list_genre:\n",
    "    print(f\"Les 3 meilleurs films de la catégorie '{genre}' sont :\")\n",
    "    top_movies = list(movies_collection.find({'genre': genre}).sort([('score', -1)]).limit(3))\n",
    "    if len(top_movies) > 0:\n",
    "        top_score = top_movies[-1]['score']\n",
    "        additional_movies = list(movies_collection.find({'genre': genre, 'score': top_score}).sort([('score', -1)]).skip(3))\n",
    "        top_movies.extend(additional_movies)\n",
    "        for i, movie in enumerate(top_movies):\n",
    "            print(f\"{i+1}. {movie['title']} - Score: {movie['score']}\")\n",
    "    else:\n",
    "        print(\"Aucun film trouvé dans cette catégorie\")\n",
    "    print('\\n')\n"
   ]
  },
  {
   "attachments": {},
   "cell_type": "markdown",
   "metadata": {},
   "source": [
    "### 5) Parmi les 100 films les mieux notés, quel pourcentage sont américains ? Français ?"
   ]
  },
  {
   "cell_type": "code",
   "execution_count": 7,
   "metadata": {},
   "outputs": [
    {
     "name": "stdout",
     "output_type": "stream",
     "text": [
      "Parmi les 100 films les mieux notés, 76% sont américains et 10% sont français.\n"
     ]
    }
   ],
   "source": [
    "# Récupération des 100 films les mieux notés\n",
    "top_100_movies = movies_collection.find().sort('score', pymongo.DESCENDING).limit(100)\n",
    "\n",
    "# Initialisation des compteurs pour les films américains et français\n",
    "nb_american_movies = 0\n",
    "nb_french_movies = 0\n",
    "\n",
    "# Parcours de la liste des 100 films pour compter les films américains et français\n",
    "for movie in top_100_movies:\n",
    "    if 'United States' in movie['country']:\n",
    "        nb_american_movies += 1\n",
    "    if 'France' in movie['country']:\n",
    "        nb_french_movies += 1\n",
    "\n",
    "\n",
    "# Affichage des résultats\n",
    "print(f\"Parmi les 100 films les mieux notés, {nb_american_movies}% sont américains et {nb_french_movies}% sont français.\")\n"
   ]
  },
  {
   "attachments": {},
   "cell_type": "markdown",
   "metadata": {},
   "source": [
    "### 6) Quel est la durée moyenne d’un film en fonction du genre ?"
   ]
  },
  {
   "cell_type": "code",
   "execution_count": 8,
   "metadata": {},
   "outputs": [
    {
     "name": "stdout",
     "output_type": "stream",
     "text": [
      "{'avg_duration': 109.0, 'genre': ['Horror', 'Mystery', 'Sci-Fi']}\n",
      "{'avg_duration': 110.0, 'genre': ['Animation', 'Action', 'Adventure']}\n",
      "{'avg_duration': 133.4, 'genre': ['Action', 'Adventure', 'Fantasy']}\n",
      "{'avg_duration': 89.0, 'genre': ['Drama', 'Family', 'Sport']}\n",
      "{'avg_duration': 128.0, 'genre': ['Mystery', 'Romance', 'Thriller']}\n",
      "{'avg_duration': 168.5, 'genre': ['Action', 'Drama']}\n",
      "{'avg_duration': 145.0, 'genre': ['Drama', 'Romance', 'Thriller']}\n",
      "{'avg_duration': 140.625, 'genre': ['Drama', 'War']}\n",
      "{'avg_duration': 95.0, 'genre': ['Comedy', 'War']}\n",
      "{'avg_duration': 92.0, 'genre': ['Animation', 'Comedy', 'Drama']}\n",
      "{'avg_duration': 129.0, 'genre': ['Drama', 'Mystery', 'Romance']}\n",
      "{'avg_duration': 45.0, 'genre': ['Action', 'Comedy', 'Romance']}\n",
      "{'avg_duration': 130.75, 'genre': ['Drama', 'Mystery', 'Thriller']}\n",
      "{'avg_duration': 121.0, 'genre': ['Mystery', 'Thriller']}\n",
      "{'avg_duration': 138.5, 'genre': ['Drama', 'Family']}\n",
      "{'avg_duration': 128.66666666666666, 'genre': ['Action', 'Drama', 'Sci-Fi']}\n",
      "{'avg_duration': 88.0, 'genre': ['Animation', 'Adventure', 'Drama']}\n",
      "{'avg_duration': 149.0, 'genre': ['Adventure', 'Sci-Fi']}\n",
      "{'avg_duration': 153.0, 'genre': ['Drama', 'Sci-Fi']}\n",
      "{'avg_duration': 129.5, 'genre': ['Biography', 'Drama']}\n",
      "{'avg_duration': 121.0, 'genre': ['Biography', 'Comedy', 'Drama']}\n",
      "{'avg_duration': 137.5, 'genre': ['Action', 'Biography', 'Drama']}\n",
      "{'avg_duration': 99.0, 'genre': ['Adventure', 'Comedy', 'Crime']}\n",
      "{'avg_duration': 100.66666666666667, 'genre': ['Crime', 'Thriller']}\n",
      "{'avg_duration': 136.6, 'genre': ['Action', 'Crime', 'Drama']}\n",
      "{'avg_duration': 96.0, 'genre': ['Drama', 'Fantasy']}\n",
      "{'avg_duration': 99.0, 'genre': ['Comedy', 'Romance', 'War']}\n",
      "{'avg_duration': 131.0, 'genre': ['Adventure', 'Drama', 'Thriller']}\n",
      "{'avg_duration': 169.0, 'genre': ['Action', 'Crime', 'Thriller']}\n",
      "{'avg_duration': 126.0, 'genre': ['Drama', 'Sport']}\n",
      "{'avg_duration': 94.0, 'genre': ['Comedy']}\n",
      "{'avg_duration': 122.0, 'genre': ['Comedy', 'Crime', 'Drama']}\n",
      "{'avg_duration': 126.10526315789474, 'genre': ['Drama']}\n",
      "{'avg_duration': 115.66666666666667, 'genre': ['Drama', 'Mystery']}\n",
      "{'avg_duration': 180.0, 'genre': ['Biography', 'Comedy', 'Crime']}\n",
      "{'avg_duration': 140.0, 'genre': ['Action', 'Drama', 'Sport']}\n",
      "{'avg_duration': 147.5, 'genre': ['Drama', 'Western']}\n",
      "{'avg_duration': 103.0, 'genre': ['Comedy', 'Musical', 'Romance']}\n",
      "{'avg_duration': 124.0, 'genre': ['Adventure', 'Thriller']}\n",
      "{'avg_duration': 126.5, 'genre': ['Action', 'Drama', 'Mystery']}\n",
      "{'avg_duration': 116.0, 'genre': ['Adventure', 'Family', 'Fantasy']}\n",
      "{'avg_duration': 103.75, 'genre': ['Comedy', 'Drama', 'Romance']}\n",
      "{'avg_duration': 125.0, 'genre': ['Comedy', 'Drama', 'War']}\n",
      "{'avg_duration': 67.0, 'genre': ['Action', 'Adventure', 'Comedy']}\n",
      "{'avg_duration': 117.0, 'genre': ['Horror', 'Sci-Fi']}\n",
      "{'avg_duration': 107.0, 'genre': ['Action', 'Comedy', 'Crime']}\n",
      "{'avg_duration': 189.0, 'genre': ['Crime', 'Drama', 'Fantasy']}\n",
      "{'avg_duration': 115.83333333333333, 'genre': ['Drama', 'Romance']}\n",
      "{'avg_duration': 114.0, 'genre': ['Animation', 'Adventure', 'Family']}\n",
      "{'avg_duration': 89.0, 'genre': ['Animation', 'Drama', 'War']}\n",
      "{'avg_duration': 153.5, 'genre': ['Adventure', 'Drama', 'Western']}\n",
      "{'avg_duration': 101.0, 'genre': ['Comedy', 'Drama', 'Fantasy']}\n",
      "{'avg_duration': 142.0, 'genre': ['Drama', 'Thriller', 'War']}\n",
      "{'avg_duration': 108.0, 'genre': ['Drama', 'Romance', 'Sci-Fi']}\n",
      "{'avg_duration': 146.0, 'genre': ['Drama', 'Horror']}\n",
      "{'avg_duration': 96.9, 'genre': ['Animation', 'Adventure', 'Comedy']}\n",
      "{'avg_duration': 172.0, 'genre': ['Adventure', 'Drama', 'History']}\n",
      "{'avg_duration': 140.5, 'genre': ['Action', 'Drama', 'War']}\n",
      "{'avg_duration': 110.0, 'genre': ['Drama', 'Film-Noir']}\n",
      "{'avg_duration': 166.33333333333334, 'genre': ['Adventure', 'Drama', 'War']}\n",
      "{'avg_duration': 178.0, 'genre': ['Adventure', 'Western']}\n",
      "{'avg_duration': 118.0, 'genre': ['Drama', 'Fantasy', 'War']}\n",
      "{'avg_duration': 130.0, 'genre': ['Drama', 'Family', 'Fantasy']}\n",
      "{'avg_duration': 99.0, 'genre': ['Crime', 'Mystery', 'Thriller']}\n",
      "{'avg_duration': 121.0, 'genre': ['Comedy', 'Music', 'Romance']}\n",
      "{'avg_duration': 136.0, 'genre': ['Crime', 'Sci-Fi']}\n",
      "{'avg_duration': 121.0, 'genre': ['Action', 'Adventure']}\n",
      "{'avg_duration': 148.5, 'genre': ['Western']}\n",
      "{'avg_duration': 109.5, 'genre': ['Comedy', 'Crime']}\n",
      "{'avg_duration': 136.2, 'genre': ['Action', 'Adventure', 'Sci-Fi']}\n",
      "{'avg_duration': 106.0, 'genre': ['Animation', 'Drama', 'Fantasy']}\n",
      "{'avg_duration': 169.33333333333334, 'genre': ['Adventure', 'Biography', 'Drama']}\n",
      "{'avg_duration': 121.75, 'genre': ['Drama', 'Thriller']}\n",
      "{'avg_duration': 136.0, 'genre': ['Action', 'Adventure', 'Mystery']}\n",
      "{'avg_duration': 178.8, 'genre': ['Action', 'Adventure', 'Drama']}\n",
      "{'avg_duration': 147.0, 'genre': ['Drama', 'Mystery', 'War']}\n",
      "{'avg_duration': 137.0, 'genre': ['Action', 'Drama', 'Thriller']}\n",
      "{'avg_duration': 137.0, 'genre': ['Biography', 'Crime', 'Drama']}\n",
      "{'avg_duration': 122.0, 'genre': ['Horror']}\n",
      "{'avg_duration': 68.0, 'genre': ['Comedy', 'Drama', 'Family']}\n",
      "{'avg_duration': 132.0, 'genre': ['Action', 'Thriller']}\n",
      "{'avg_duration': 106.0, 'genre': ['Drama', 'Music']}\n",
      "{'avg_duration': 129.66666666666666, 'genre': ['Crime', 'Drama', 'Mystery']}\n",
      "{'avg_duration': 95.0, 'genre': ['Adventure', 'Comedy', 'Drama']}\n",
      "{'avg_duration': 170.0, 'genre': ['Drama', 'Romance', 'War']}\n",
      "{'avg_duration': 107.0, 'genre': ['Crime', 'Drama', 'Film-Noir']}\n",
      "{'avg_duration': 116.0, 'genre': ['Adventure', 'Comedy', 'Sci-Fi']}\n",
      "{'avg_duration': 130.0, 'genre': ['Drama', 'Mystery', 'Sci-Fi']}\n",
      "{'avg_duration': 145.0, 'genre': ['Biography', 'Drama', 'Sport']}\n",
      "{'avg_duration': 169.0, 'genre': ['Adventure', 'Drama', 'Sci-Fi']}\n",
      "{'avg_duration': 126.66666666666667, 'genre': ['Action', 'Sci-Fi']}\n",
      "{'avg_duration': 109.0, 'genre': ['Horror', 'Mystery', 'Thriller']}\n",
      "{'avg_duration': 149.625, 'genre': ['Biography', 'Drama', 'History']}\n",
      "{'avg_duration': 86.0, 'genre': ['Animation', 'Comedy', 'Family']}\n",
      "{'avg_duration': 155.0, 'genre': ['Biography', 'Drama', 'Music']}\n",
      "{'avg_duration': 91.0, 'genre': ['Adventure', 'Comedy', 'Fantasy']}\n",
      "{'avg_duration': 150.5, 'genre': ['Adventure', 'Drama']}\n",
      "{'avg_duration': 144.28571428571428, 'genre': ['Crime', 'Drama']}\n",
      "{'avg_duration': 93.0, 'genre': ['Film-Noir', 'Mystery', 'Thriller']}\n",
      "{'avg_duration': 130.0, 'genre': ['Drama', 'Film-Noir', 'Mystery']}\n",
      "{'avg_duration': 122.0, 'genre': ['Comedy', 'Drama', 'Thriller']}\n",
      "{'avg_duration': 132.5, 'genre': ['Comedy', 'Drama']}\n",
      "{'avg_duration': 124.2, 'genre': ['Crime', 'Drama', 'Thriller']}\n",
      "{'avg_duration': 132.5, 'genre': ['Biography', 'Drama', 'Family']}\n",
      "{'avg_duration': 113.5, 'genre': ['Comedy', 'Romance']}\n"
     ]
    }
   ],
   "source": [
    "pipeline = [\n",
    "    {\"$group\": {\"_id\": \"$genre\", \"avg_duration\": {\"$avg\": \"$time\"}}},\n",
    "    {\"$project\": {\"genre\": \"$_id\", \"avg_duration\": 1, \"_id\": 0}}\n",
    "]\n",
    "\n",
    "results = movies_collection.aggregate(pipeline)\n",
    "\n",
    "for result in results:\n",
    "    print(result)\n"
   ]
  },
  {
   "cell_type": "code",
   "execution_count": 9,
   "metadata": {},
   "outputs": [
    {
     "name": "stdout",
     "output_type": "stream",
     "text": [
      "        genre  durée moyenne (min)\n",
      "0      Action               133.98\n",
      "1   Adventure               130.12\n",
      "2   Animation               100.96\n",
      "3   Biography               145.50\n",
      "4      Comedy               105.60\n",
      "5       Crime               132.50\n",
      "6       Drama               134.58\n",
      "7      Family               114.54\n",
      "8     Fantasy               123.57\n",
      "9   Film-Noir               110.00\n",
      "10    History               152.11\n",
      "11     Horror               120.60\n",
      "12      Music               134.25\n",
      "13    Musical               103.00\n",
      "14    Mystery               124.61\n",
      "15    Romance               118.48\n",
      "16     Sci-Fi               131.70\n",
      "17      Sport               128.50\n",
      "18   Thriller               123.88\n",
      "19        War               140.43\n",
      "20    Western               153.86\n"
     ]
    }
   ],
   "source": [
    "import pandas as pd\n",
    "\n",
    "genres = movies_collection.distinct('genre')\n",
    "result = {}\n",
    "\n",
    "for genre in genres:\n",
    "    count = movies_collection.count_documents({'genre': genre})\n",
    "    total_duration = sum(movie['time'] for movie in movies_collection.find({'genre': genre}))\n",
    "    avg_duration = total_duration / count\n",
    "    result[genre] = round(avg_duration, 2)\n",
    "\n",
    "df = pd.DataFrame(list(result.items()), columns=['genre', 'durée moyenne (min)'])\n",
    "print(df)\n"
   ]
  },
  {
   "cell_type": "code",
   "execution_count": 20,
   "metadata": {},
   "outputs": [
    {
     "name": "stdout",
     "output_type": "stream",
     "text": [
      "<class 'int'>\n"
     ]
    }
   ],
   "source": [
    "def count_movies_by_actor(actor_name: str):\n",
    "    '''\n",
    "    Compte le nombre de films dans lesquels un acteur a joué.\n",
    "\n",
    "    Args:\n",
    "        actor_name (str): Nom de l'acteur.\n",
    "\n",
    "    Returns:\n",
    "        str: Chaîne de caractères indiquant le nombre de films dans lesquels l'acteur a \n",
    "    '''\n",
    "    count = movies_collection.count_documents({\"stars\": {\"$regex\": actor_name, \"$options\": \"i\"}})\n",
    "    return f\"{actor_name} a joué dans {count} films\"\n",
    "\n",
    "print(type(count))"
   ]
  }
 ],
 "metadata": {
  "kernelspec": {
   "display_name": "base",
   "language": "python",
   "name": "python3"
  },
  "language_info": {
   "codemirror_mode": {
    "name": "ipython",
    "version": 3
   },
   "file_extension": ".py",
   "mimetype": "text/x-python",
   "name": "python",
   "nbconvert_exporter": "python",
   "pygments_lexer": "ipython3",
   "version": "3.11.3"
  },
  "orig_nbformat": 4
 },
 "nbformat": 4,
 "nbformat_minor": 2
}
